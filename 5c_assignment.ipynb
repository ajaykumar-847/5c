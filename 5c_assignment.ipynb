{
 "cells": [
  {
   "cell_type": "code",
   "execution_count": 30,
   "id": "b823db14-78bf-4adc-a500-98d57bbb8071",
   "metadata": {},
   "outputs": [
    {
     "name": "stdout",
     "output_type": "stream",
     "text": [
      "Total Revenue:  127804.31\n",
      "Total Cost:  96321.56\n",
      "Overall Gross Margin:  31482.75\n"
     ]
    }
   ],
   "source": [
    "import pandas as pd\n",
    "\n",
    "file_path = 'C:/Users/ELGI/Desktop/5c/sales_data_1.csv'\n",
    "sales_data = pd.read_csv(file_path)\n",
    "sales_data['Total Revenue'] = sales_data['Selling price'] * sales_data['Quantity sold']\n",
    "sales_data['Total Cost'] = sales_data['Buying price'] * sales_data['Quantity sold']\n",
    "total_revenue = sales_data['Total Revenue'].sum()\n",
    "total_cost = sales_data['Total Cost'].sum()\n",
    "overall_gross_margin = total_revenue - total_cost\n",
    "print(\"Total Revenue: \",round(total_revenue,2))\n",
    "print(\"Total Cost: \",round(total_cost,2))\n",
    "print(\"Overall Gross Margin: \",round(overall_gross_margin,2))"
   ]
  },
  {
   "cell_type": "code",
   "execution_count": 31,
   "id": "6ecbc835-40e8-4ae0-aba3-39f6a08492d3",
   "metadata": {},
   "outputs": [
    {
     "name": "stdout",
     "output_type": "stream",
     "text": [
      "The most profitable vendor is Vendor4 with a total profit of 6903.31\n"
     ]
    }
   ],
   "source": [
    "sales_data['Total Profit'] = (sales_data['Selling price'] - sales_data['Buying price']) * sales_data['Quantity sold']\n",
    "vendor_profit = sales_data.groupby('Firm bought from')['Total Profit'].sum()\n",
    "most_profitable_vendor = vendor_profit.idxmax()\n",
    "highest_profit = vendor_profit.max()\n",
    "print(\"The most profitable vendor is {} with a total profit of {}\".format(most_profitable_vendor,round(highest_profit,2)))"
   ]
  },
  {
   "cell_type": "code",
   "execution_count": 32,
   "id": "1ad75c59-349b-40e8-b1c2-d1d0625bc5cb",
   "metadata": {},
   "outputs": [
    {
     "name": "stdout",
     "output_type": "stream",
     "text": [
      "The least profitable customer is 'Customer3' with a total profit of 1055.05\n"
     ]
    }
   ],
   "source": [
    "sales_data['Total Profit'] = (sales_data['Selling price'] - sales_data['Buying price']) * sales_data['Quantity sold']\n",
    "customer_profit = sales_data.groupby('Customer')['Total Profit'].sum()\n",
    "least_profitable_customer = customer_profit.idxmin()\n",
    "lowest_profit = customer_profit.min()\n",
    "print(\"The least profitable customer is '{}' with a total profit of {}\".format(least_profitable_customer,lowest_profit))"
   ]
  },
  {
   "cell_type": "code",
   "execution_count": 33,
   "id": "28f3b1a9-230a-4c63-8472-93943e142b8e",
   "metadata": {},
   "outputs": [
    {
     "name": "stdout",
     "output_type": "stream",
     "text": [
      "The most profitable day of the week was  Monday with a total profit of 6847.34\n"
     ]
    },
    {
     "name": "stderr",
     "output_type": "stream",
     "text": [
      "C:\\Users\\ELGI\\AppData\\Local\\Temp\\ipykernel_612\\323270458.py:1: UserWarning: Could not infer format, so each element will be parsed individually, falling back to `dateutil`. To ensure parsing is consistent and as-expected, please specify a format.\n",
      "  sales_data['Date'] = pd.to_datetime(sales_data['Date'])\n"
     ]
    }
   ],
   "source": [
    "sales_data['Date'] = pd.to_datetime(sales_data['Date'])\n",
    "sales_data['Total Profit'] = (sales_data['Selling price'] - sales_data['Buying price']) * sales_data['Quantity sold']\n",
    "sales_data['Day of Week'] = sales_data['Date'].dt.day_name()\n",
    "profit_by_day = sales_data.groupby('Day of Week')['Total Profit'].sum()\n",
    "most_profitable_day = profit_by_day.idxmax()\n",
    "highest_profit = profit_by_day.max()\n",
    "print(\"The most profitable day of the week was \",most_profitable_day,\"with a total profit of\",round(highest_profit,2))\n"
   ]
  },
  {
   "cell_type": "code",
   "execution_count": 34,
   "id": "98d3c7fe-e24d-4361-adeb-03e76d380b7c",
   "metadata": {},
   "outputs": [
    {
     "name": "stdout",
     "output_type": "stream",
     "text": [
      "The least profitable day of the week was 'Sunday' with a total profit of 3086.46\n"
     ]
    }
   ],
   "source": [
    "sales_data['Date'] = pd.to_datetime(sales_data['Date'], format='%d-%m-%Y')\n",
    "sales_data['Total Profit'] = (sales_data['Selling price'] - sales_data['Buying price']) * sales_data['Quantity sold']\n",
    "sales_data['Day of Week'] = sales_data['Date'].dt.day_name()\n",
    "profit_by_day = sales_data.groupby('Day of Week')['Total Profit'].sum()\n",
    "least_profitable_day = profit_by_day.idxmin()\n",
    "lowest_profit = profit_by_day.min()\n",
    "print(\"The least profitable day of the week was '{}' with a total profit of {}\".format(least_profitable_day, round(lowest_profit,2)))"
   ]
  },
  {
   "cell_type": "code",
   "execution_count": null,
   "id": "9cda9c15-2c2b-404b-bb76-69da6686b7a9",
   "metadata": {},
   "outputs": [],
   "source": []
  },
  {
   "cell_type": "code",
   "execution_count": null,
   "id": "08a11987-5993-4970-88a8-ae27d7d9b87b",
   "metadata": {},
   "outputs": [],
   "source": []
  }
 ],
 "metadata": {
  "kernelspec": {
   "display_name": "Python 3 (ipykernel)",
   "language": "python",
   "name": "python3"
  },
  "language_info": {
   "codemirror_mode": {
    "name": "ipython",
    "version": 3
   },
   "file_extension": ".py",
   "mimetype": "text/x-python",
   "name": "python",
   "nbconvert_exporter": "python",
   "pygments_lexer": "ipython3",
   "version": "3.11.4"
  }
 },
 "nbformat": 4,
 "nbformat_minor": 5
}
